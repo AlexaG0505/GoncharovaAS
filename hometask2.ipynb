{
 "cells": [
  {
   "cell_type": "markdown",
   "metadata": {},
   "source": [
    "task 1:"
   ]
  },
  {
   "cell_type": "code",
   "execution_count": 46,
   "metadata": {},
   "outputs": [
    {
     "name": "stdout",
     "output_type": "stream",
     "text": [
      "[[0.39406733 0.44819306 0.64808112]\n",
      " [0.48612645 0.33766975 0.59409383]\n",
      " [0.45278263 0.22286605 0.49076879]\n",
      " [0.07501452 0.84952618 0.21623807]\n",
      " [0.07755718 0.58806054 0.80368509]\n",
      " [0.98699986 0.66254065 0.49056118]\n",
      " [0.45789855 0.5241552  0.25975133]\n",
      " [0.12132639 0.40394456 0.10442887]\n",
      " [0.39315525 0.44541354 0.99005181]\n",
      " [0.88209352 0.02371661 0.36217542]]\n"
     ]
    }
   ],
   "source": [
    "import numpy as np\n",
    "a = np.random.random((10,3))\n",
    "print(a)"
   ]
  },
  {
   "cell_type": "code",
   "execution_count": 47,
   "metadata": {},
   "outputs": [
    {
     "name": "stdout",
     "output_type": "stream",
     "text": [
      "nearest to 0.5 in  0 string is  0.44819305572113577\n",
      "nearest to 0.5 in  1 string is  0.4861264515478061\n",
      "nearest to 0.5 in  2 string is  0.49076879094791004\n",
      "nearest to 0.5 in  3 string is  0.8495261837215615\n",
      "nearest to 0.5 in  4 string is  0.5880605358702152\n",
      "nearest to 0.5 in  5 string is  0.9869998561535946\n",
      "nearest to 0.5 in  6 string is  0.5241552022841478\n",
      "nearest to 0.5 in  7 string is  0.40394455640872995\n",
      "nearest to 0.5 in  8 string is  0.4454135389360365\n",
      "nearest to 0.5 in  9 string is  0.882093516120649\n"
     ]
    }
   ],
   "source": [
    "for i in range(0, 10):\n",
    "    near = a[i][0]\n",
    "    for j in range(0,3):\n",
    "        c = (0.5 - a[i][j]) \n",
    "        c = abs(c)\n",
    "        if (c) < (0.5 - near):\n",
    "            near = a[i][j]\n",
    "    print (\"nearest to 0.5 in \", i, \"string is \", near)"
   ]
  },
  {
   "cell_type": "markdown",
   "metadata": {},
   "source": [
    "task 2:"
   ]
  },
  {
   "cell_type": "code",
   "execution_count": 48,
   "metadata": {},
   "outputs": [
    {
     "name": "stdout",
     "output_type": "stream",
     "text": [
      "[[0.82857776 0.88848491 0.82049496 0.23692362 0.31762892 0.61397163]\n",
      " [0.08389844 0.71777771 0.64269023 0.02733732 0.69097688 0.33193552]\n",
      " [0.23222989 0.12544787 0.23874152 0.51314132 0.78530033 0.70536533]\n",
      " [0.01914153 0.13470816 0.01912815 0.27736796 0.01026869 0.25619182]\n",
      " [0.09832231 0.83266395 0.29774309 0.72883645 0.36744668 0.94904616]\n",
      " [0.31073274 0.37948263 0.25067146 0.29690348 0.00612601 0.44296004]]\n"
     ]
    }
   ],
   "source": [
    "import numpy as np\n",
    "arr = np.random.random((6,6))\n",
    "print(arr)"
   ]
  },
  {
   "cell_type": "code",
   "execution_count": 54,
   "metadata": {},
   "outputs": [
    {
     "name": "stdout",
     "output_type": "stream",
     "text": [
      "result for 0 is 193.61469414399264\n",
      "result for 1 is 19.885678998941227\n",
      "result for 2 is 135.93716215699024\n",
      "result for 3 is 26.220800992726033\n",
      "result for 4 is 534.4519867217992\n",
      "result for 5 is 6.58442716128313\n"
     ]
    }
   ],
   "source": [
    "for i in range(0,6):\n",
    "    s = 0\n",
    "    for j in range(0,6):\n",
    "        s += arr[i][j]\n",
    "    minn = arr[0][i]\n",
    "    for k in range(1,6):\n",
    "        if arr[k][i] < minn:\n",
    "            minn = arr[k][i]\n",
    "        b = s / minn\n",
    "    print(\"result for\", i,\"is\", b)"
   ]
  },
  {
   "cell_type": "markdown",
   "metadata": {},
   "source": [
    "task 3:"
   ]
  },
  {
   "cell_type": "code",
   "execution_count": 55,
   "metadata": {},
   "outputs": [
    {
     "name": "stdout",
     "output_type": "stream",
     "text": [
      "max after 0 is 5\n"
     ]
    }
   ],
   "source": [
    "import numpy as np\n",
    "x = np.array([6, 2, 0, 3, 0, 0, 5, 7, 0])\n",
    "maxx = 0\n",
    "for i in range(0, 8):\n",
    "    if (x[i] == 0):\n",
    "        if (x[i+1] > maxx):\n",
    "            maxx = x[i+1]\n",
    "print(\"max after 0 is\", maxx)"
   ]
  },
  {
   "cell_type": "code",
   "execution_count": 60,
   "metadata": {},
   "outputs": [
    {
     "name": "stdout",
     "output_type": "stream",
     "text": [
      "[2. 2. 2. 2. 1. 4. 1. 1. 2. 1.]\n"
     ]
    }
   ],
   "source": [
    "import numpy as np\n",
    "y = np.ones(10)\n",
    "p = np.array([0, 1, 2, 3, 5, 5, 5, 8])\n",
    "for j in range(0,8):\n",
    "    y[p[j]] += 1\n",
    "print(y)\n"
   ]
  },
  {
   "cell_type": "code",
   "execution_count": null,
   "metadata": {},
   "outputs": [],
   "source": []
  }
 ],
 "metadata": {
  "kernelspec": {
   "display_name": "Python 3",
   "language": "python",
   "name": "python3"
  },
  "language_info": {
   "codemirror_mode": {
    "name": "ipython",
    "version": 3
   },
   "file_extension": ".py",
   "mimetype": "text/x-python",
   "name": "python",
   "nbconvert_exporter": "python",
   "pygments_lexer": "ipython3",
   "version": "3.8.3"
  }
 },
 "nbformat": 4,
 "nbformat_minor": 4
}
