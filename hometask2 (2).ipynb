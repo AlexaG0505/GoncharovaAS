{
 "cells": [
  {
   "cell_type": "markdown",
   "metadata": {},
   "source": [
    "TASK 1:"
   ]
  },
  {
   "cell_type": "code",
   "execution_count": 1,
   "metadata": {},
   "outputs": [
    {
     "name": "stdout",
     "output_type": "stream",
     "text": [
      "[[0.71880255 0.93741159 0.7857069 ]\n",
      " [0.08470927 0.68120589 0.22008913]\n",
      " [0.5624791  0.96711176 0.18794662]\n",
      " [0.90234401 0.5541229  0.23010139]\n",
      " [0.40750349 0.40805699 0.81311942]\n",
      " [0.5421042  0.95216893 0.94126073]\n",
      " [0.98563902 0.04307073 0.87851604]\n",
      " [0.14170517 0.5603987  0.92960221]\n",
      " [0.18182987 0.8888953  0.59985726]\n",
      " [0.79058284 0.87248915 0.94124255]]\n"
     ]
    }
   ],
   "source": [
    "import numpy as np\n",
    "a = np.random.random((10,3))\n",
    "print(a)"
   ]
  },
  {
   "cell_type": "code",
   "execution_count": 2,
   "metadata": {},
   "outputs": [
    {
     "name": "stdout",
     "output_type": "stream",
     "text": [
      "nearest to 0.5 in  0 string is  0.7188025546495523\n",
      "nearest to 0.5 in  1 string is  0.681205894548332\n",
      "nearest to 0.5 in  2 string is  0.562479104748354\n",
      "nearest to 0.5 in  3 string is  0.9023440080380687\n",
      "nearest to 0.5 in  4 string is  0.4080569932220326\n",
      "nearest to 0.5 in  5 string is  0.5421042022230348\n",
      "nearest to 0.5 in  6 string is  0.9856390210535422\n",
      "nearest to 0.5 in  7 string is  0.5603986954200938\n",
      "nearest to 0.5 in  8 string is  0.599857261870391\n",
      "nearest to 0.5 in  9 string is  0.7905828386928543\n"
     ]
    }
   ],
   "source": [
    "for i in range(0, 10):\n",
    "    near = a[i][0]\n",
    "    for j in range(0,3):\n",
    "        c = (0.5 - a[i][j]) \n",
    "        c = abs(c)\n",
    "        if (c) < (0.5 - near):\n",
    "            near = a[i][j]\n",
    "    print (\"nearest to 0.5 in \", i, \"string is \", near)"
   ]
  },
  {
   "cell_type": "markdown",
   "metadata": {},
   "source": [
    "TASK 2:"
   ]
  },
  {
   "cell_type": "code",
   "execution_count": 3,
   "metadata": {},
   "outputs": [
    {
     "name": "stdout",
     "output_type": "stream",
     "text": [
      "[[0.64041973 0.25691821 0.34876469 0.03477747 0.6416     0.44937071]\n",
      " [0.00921096 0.32392489 0.86195451 0.68552849 0.53841707 0.11448821]\n",
      " [0.5775671  0.14559219 0.03515236 0.50241951 0.92921255 0.9391895 ]\n",
      " [0.39216106 0.04325344 0.44509352 0.9318635  0.36500427 0.46300627]\n",
      " [0.36694869 0.87740728 0.70563986 0.45964971 0.53321133 0.50938003]\n",
      " [0.35058235 0.90162908 0.5403116  0.77610344 0.21661042 0.28735801]]\n"
     ]
    }
   ],
   "source": [
    "import numpy as np\n",
    "arr = np.random.random((6,6))\n",
    "print(arr)"
   ]
  },
  {
   "cell_type": "code",
   "execution_count": 4,
   "metadata": {},
   "outputs": [
    {
     "name": "stdout",
     "output_type": "stream",
     "text": [
      "result for 0 is 257.5031484817414\n",
      "result for 1 is 58.573933664336124\n",
      "result for 2 is 89.01629442086289\n",
      "result for 3 is 75.92219505755492\n",
      "result for 4 is 15.93753818607742\n",
      "result for 5 is 26.83765384250529\n"
     ]
    }
   ],
   "source": [
    "for i in range(0,6):\n",
    "    s = 0\n",
    "    for j in range(0,6):\n",
    "        s += arr[i][j]\n",
    "    minn = arr[0][i]\n",
    "    for k in range(1,6):\n",
    "        if arr[k][i] < minn:\n",
    "            minn = arr[k][i]\n",
    "        b = s / minn\n",
    "    print(\"result for\", i,\"is\", b)"
   ]
  },
  {
   "cell_type": "markdown",
   "metadata": {},
   "source": [
    "TASK 3:"
   ]
  },
  {
   "cell_type": "code",
   "execution_count": 5,
   "metadata": {},
   "outputs": [
    {
     "name": "stdout",
     "output_type": "stream",
     "text": [
      "max after 0 is 5\n"
     ]
    }
   ],
   "source": [
    "import numpy as np\n",
    "x = np.array([6, 2, 0, 3, 0, 0, 5, 7, 0])\n",
    "maxx = 0\n",
    "for i in range(0, 8):\n",
    "    if (x[i] == 0):\n",
    "        if (x[i+1] > maxx):\n",
    "            maxx = x[i+1]\n",
    "print(\"max after 0 is\", maxx)"
   ]
  },
  {
   "cell_type": "markdown",
   "metadata": {},
   "source": [
    "TASK 4:"
   ]
  },
  {
   "cell_type": "code",
   "execution_count": 6,
   "metadata": {},
   "outputs": [
    {
     "name": "stdout",
     "output_type": "stream",
     "text": [
      "[2. 2. 2. 2. 1. 4. 1. 1. 2. 1.]\n"
     ]
    }
   ],
   "source": [
    "import numpy as np\n",
    "y = np.ones(10)\n",
    "p = np.array([0, 1, 2, 3, 5, 5, 5, 8])\n",
    "for j in range(0,8):\n",
    "    y[p[j]] += 1\n",
    "print(y)"
   ]
  },
  {
   "cell_type": "markdown",
   "metadata": {},
   "source": [
    "TASK 5:"
   ]
  },
  {
   "cell_type": "code",
   "execution_count": 134,
   "metadata": {},
   "outputs": [],
   "source": [
    "import numpy as np\n",
    "def kmeans(obs, k_or_guess, iter = 1000, thresh = 1e-05):\n",
    "    M = obs.shape[0]\n",
    "    N = obs.shape[1] \n",
    "    codebook = obs[:k_or_guess,:] # new centroids of clusters\n",
    "    centroids = np.zeros((k_or_guess,N)) # previous centroids\n",
    "    distortion = M * N * k_or_guess * np.max(obs) ** 2 # new distortion\n",
    "    dist = 0 # previous distortion\n",
    "    obs = np.expand_dims(obs, axis = 1) # adding оf a new axis\n",
    "    i = 0\n",
    "    while np.abs(distortion - dist) > thresh and i < iter:\n",
    "        centroids = codebook\n",
    "        dist = distortion\n",
    "        clust = np.argmin(((obs - codebook) ** 2).sum(axis = 2), axis = 1) # clusters's numbers for each element\n",
    "        m = np.zeros(M * k_or_guess * N).reshape(M, k_or_guess, N)\n",
    "        m[np.arange(M), clust] = (obs - codebook)[np.arange(M),clust] / np.bincount(clust)[clust].reshape(M, 1)\n",
    "        codebook = centroids + m.sum(axis = 0)\n",
    "        clust = np.argmin(((obs - codebook) ** 2).sum(axis = 2),axis = 1) \n",
    "        m = np.zeros(M * k_or_guess * N).reshape(M, k_or_guess, N)\n",
    "        m[np.arange(M), clust] = (obs - codebook)[np.arange(M), clust]\n",
    "        distortion = np.sqrt((m ** 2).sum(axis = 2)).sum(axis = 1).mean()\n",
    "        i = i + 1\n",
    "    return codebook, distortion"
   ]
  },
  {
   "cell_type": "markdown",
   "metadata": {},
   "source": [
    "TASK 6:"
   ]
  },
  {
   "cell_type": "code",
   "execution_count": 136,
   "metadata": {},
   "outputs": [],
   "source": [
    "import numpy as np\n",
    "import matplotlib.pyplot as plt\n",
    "from scipy.cluster.vq import kmeans\n",
    "# data reading\n",
    "url = 'https://raw.githubusercontent.com/sharmaroshan/Clustering-of-Mall-Customers/master/Mall_Customers.csv'\n",
    "data = np.loadtxt(url, delimiter=',', dtype=object, skiprows=1)\n",
    "data[:, 1] = data[:, 1] == 'Male'\n",
    "data = data.astype(float) "
   ]
  },
  {
   "cell_type": "code",
   "execution_count": 159,
   "metadata": {},
   "outputs": [],
   "source": [
    "def num_clust(data, codebook): # points and their cluster's numbers\n",
    "    k = len(codebook) # number of clusters\n",
    "    i = np.arange(0, k) # indexes\n",
    "    p = np.ones((k, len(data)))\n",
    "    p[i] = np.arange(0, len(data))\n",
    "    p = p.astype(int) # value type is int\n",
    "    d1 = (data[p, 0] - codebook[i, 0].reshape(k, 1))**2\n",
    "    d2 = (data[p, 1] - codebook[i, 1].reshape(k, 1))**2\n",
    "    clust_num = ((d1 + d2)**(1/2)).argmin(axis = 0).astype(int)\n",
    "    clusters = []\n",
    "    for j in range(k):\n",
    "        clusters.append(data[clust_num == j])\n",
    "    return clusters"
   ]
  },
  {
   "cell_type": "markdown",
   "metadata": {},
   "source": [
    "TEST 1: DEPENDENCE OF ANNUAL INCOME ON AGE"
   ]
  },
  {
   "cell_type": "code",
   "execution_count": 181,
   "metadata": {},
   "outputs": [
    {
     "data": {
      "image/png": "[encoded data removed]",
      "text/plain": [
       "<Figure size 432x288 with 1 Axes>"
      ]
     },
     "metadata": {
      "needs_background": "light"
     },
     "output_type": "display_data"
    }
   ],
   "source": [
    "dist = []\n",
    "K = range(1,18)\n",
    "for k in K:\n",
    "    dist.append(kmeans(data[:,[2,3]], k)[1])\n",
    "\n",
    "plt.plot(K, dist, 'o-r', label='Elbow method')\n",
    "plt.legend()\n",
    "plt.xlabel('K')\n",
    "plt.ylabel('Distortion')\n",
    "plt.title('Elbow method')\n",
    "plt.show()"
   ]
  },
  {
   "cell_type": "markdown",
   "metadata": {},
   "source": [
    "OPTIMAL K = 3"
   ]
  },
  {
   "cell_type": "code",
   "execution_count": 187,
   "metadata": {},
   "outputs": [
    {
     "data": {
      "image/png": "[encoded data removed]",
      "text/plain": [
       "<Figure size 432x288 with 1 Axes>"
      ]
     },
     "metadata": {
      "needs_background": "light"
     },
     "output_type": "display_data"
    }
   ],
   "source": [
    "codebook, distortion = kmeans(data[:,[2,3]], 3)\n",
    "clusters = num_clust(data[:,[2,3]], codebook)\n",
    "plt.scatter(clusters[0][:,0], clusters[0][:,1], c='r', label='kl 1')\n",
    "plt.scatter(clusters[1][:,0], clusters[1][:,1], c='g', label='kl 2')\n",
    "plt.scatter(clusters[2][:,0], clusters[2][:,1], c='b', label='kl 3')\n",
    "plt.legend()\n",
    "plt.xlabel('Age')\n",
    "plt.ylabel('Annual Income')\n",
    "plt.show()"
   ]
  },
  {
   "cell_type": "markdown",
   "metadata": {},
   "source": [
    "TEST 2: DEPENDENCE OF SPENDING SCORE ON AGE"
   ]
  },
  {
   "cell_type": "code",
   "execution_count": 183,
   "metadata": {},
   "outputs": [
    {
     "data": {
      "image/png": "[encoded data removed]",
      "text/plain": [
       "<Figure size 432x288 with 1 Axes>"
      ]
     },
     "metadata": {
      "needs_background": "light"
     },
     "output_type": "display_data"
    }
   ],
   "source": [
    "dist = []\n",
    "K = range(1,18)\n",
    "for k in K:\n",
    "    dist.append(kmeans(data[:,[2,4]], k)[1])\n",
    "    \n",
    "plt.plot(K, dist, 'o-r', label='Elbow method')\n",
    "plt.legend()\n",
    "plt.xlabel('K')\n",
    "plt.ylabel('Distortion')\n",
    "plt.show()"
   ]
  },
  {
   "cell_type": "markdown",
   "metadata": {},
   "source": [
    "OPTIMAL K = 4"
   ]
  },
  {
   "cell_type": "code",
   "execution_count": 188,
   "metadata": {},
   "outputs": [
    {
     "data": {
      "image/png": "[encoded data removed]",
      "text/plain": [
       "<Figure size 432x288 with 1 Axes>"
      ]
     },
     "metadata": {
      "needs_background": "light"
     },
     "output_type": "display_data"
    }
   ],
   "source": [
    "codebook, distortion = kmeans(data[:,[2,4]], 4)\n",
    "clusters = num_clust(data[:,[2,4]], codebook)\n",
    "plt.scatter(clusters[0][:,0], clusters[0][:,1], c='r', label='kl 1')\n",
    "plt.scatter(clusters[1][:,0], clusters[1][:,1], c='g', label='kl 2')\n",
    "plt.scatter(clusters[2][:,0], clusters[2][:,1], c='b', label='kl 3')\n",
    "plt.scatter(clusters[3][:,0], clusters[3][:,1], c='y', label='kl 4')\n",
    "plt.legend()\n",
    "plt.xlabel('Age')\n",
    "plt.ylabel('Spending Score')\n",
    "plt.show()"
   ]
  },
  {
   "cell_type": "markdown",
   "metadata": {},
   "source": [
    "TEST 3: DEPENDENCE OF SPENDING SCORE ON ANNUAL INCOME"
   ]
  },
  {
   "cell_type": "code",
   "execution_count": 186,
   "metadata": {},
   "outputs": [
    {
     "data": {
      "image/png": "[encoded data removed]",
      "text/plain": [
       "<Figure size 432x288 with 1 Axes>"
      ]
     },
     "metadata": {
      "needs_background": "light"
     },
     "output_type": "display_data"
    }
   ],
   "source": [
    "dist = []\n",
    "K = range(1,18)\n",
    "for k in K:\n",
    "    dist.append(kmeans(data[:,[3,4]], k)[1])\n",
    "    \n",
    "plt.plot(K, distortions, 'o-r', label='Elbow method')\n",
    "plt.legend()\n",
    "plt.xlabel('K')\n",
    "plt.ylabel('Distortion')\n",
    "plt.show()"
   ]
  },
  {
   "cell_type": "markdown",
   "metadata": {},
   "source": [
    "OPTIMAL K = 5"
   ]
  },
  {
   "cell_type": "code",
   "execution_count": 191,
   "metadata": {},
   "outputs": [
    {
     "data": {
      "image/png": "[encoded data removed]",
      "text/plain": [
       "<Figure size 432x288 with 1 Axes>"
      ]
     },
     "metadata": {
      "needs_background": "light"
     },
     "output_type": "display_data"
    }
   ],
   "source": [
    "codebook, distortion = kmeans(data[:,[3,4]], 5)\n",
    "clusters = num_clust(data[:,[3,4]], codebook)\n",
    "plt.scatter(clusters[0][:,0], clusters[0][:,1], c='r', label='kl 1')\n",
    "plt.scatter(clusters[1][:,0], clusters[1][:,1], c='g', label='kl 2')\n",
    "plt.scatter(clusters[2][:,0], clusters[2][:,1], c='b', label='kl 3')\n",
    "plt.scatter(clusters[3][:,0], clusters[3][:,1], c='y', label='kl 4')\n",
    "plt.scatter(clusters[4][:,0], clusters[4][:,1], c='c', label='kl 5')\n",
    "plt.legend()\n",
    "plt.xlabel('Annual Income')\n",
    "plt.ylabel('Spending Score')\n",
    "plt.show()"
   ]
  },
  {
   "cell_type": "code",
   "execution_count": null,
   "metadata": {},
   "outputs": [],
   "source": []
  },
  {
   "cell_type": "code",
   "execution_count": null,
   "metadata": {},
   "outputs": [],
   "source": []
  },
  {
   "cell_type": "code",
   "execution_count": null,
   "metadata": {},
   "outputs": [],
   "source": []
  },
  {
   "cell_type": "code",
   "execution_count": null,
   "metadata": {},
   "outputs": [],
   "source": []
  },
  {
   "cell_type": "code",
   "execution_count": null,
   "metadata": {},
   "outputs": [],
   "source": []
  },
  {
   "cell_type": "code",
   "execution_count": null,
   "metadata": {},
   "outputs": [],
   "source": []
  },
  {
   "cell_type": "code",
   "execution_count": null,
   "metadata": {},
   "outputs": [],
   "source": []
  },
  {
   "cell_type": "code",
   "execution_count": null,
   "metadata": {},
   "outputs": [],
   "source": []
  },
  {
   "cell_type": "code",
   "execution_count": null,
   "metadata": {},
   "outputs": [],
   "source": []
  },
  {
   "cell_type": "code",
   "execution_count": null,
   "metadata": {},
   "outputs": [],
   "source": []
  }
 ],
 "metadata": {
  "kernelspec": {
   "display_name": "Python 3",
   "language": "python",
   "name": "python3"
  },
  "language_info": {
   "codemirror_mode": {
    "name": "ipython",
    "version": 3
   },
   "file_extension": ".py",
   "mimetype": "text/x-python",
   "name": "python",
   "nbconvert_exporter": "python",
   "pygments_lexer": "ipython3",
   "version": "3.8.3"
  }
 },
 "nbformat": 4,
 "nbformat_minor": 4
}
