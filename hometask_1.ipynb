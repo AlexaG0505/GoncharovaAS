{
 "cells": [
  {
   "cell_type": "code",
   "execution_count": 1,
   "metadata": {},
   "outputs": [],
   "source": [
    "class Test:\n",
    "\t@staticmethod\n",
    "\tdef assert_equals(a, b, *args, **kwargs):\n",
    "\t\tassert a == b\n",
    "\t\tprint('Passed')"
   ]
  },
  {
   "cell_type": "markdown",
   "metadata": {},
   "source": [
    "Problem https://edabit.com/challenge/KjCS7occ9hfu5snpb (1 point)"
   ]
  },
  {
   "cell_type": "code",
   "execution_count": 2,
   "metadata": {},
   "outputs": [],
   "source": [
    "def addition(a):\n",
    "\ta += 1\n",
    "\treturn a"
   ]
  },
  {
   "cell_type": "code",
   "execution_count": 3,
   "metadata": {},
   "outputs": [
    {
     "name": "stdout",
     "output_type": "stream",
     "text": [
      "Passed\n",
      "Passed\n",
      "Passed\n"
     ]
    }
   ],
   "source": [
    "Test.assert_equals(addition(0), 1)\n",
    "Test.assert_equals(addition(9), 10)\n",
    "Test.assert_equals(addition(-3), -2)"
   ]
  },
  {
   "cell_type": "code",
   "execution_count": 4,
   "metadata": {},
   "outputs": [],
   "source": [
    "class Test:\n",
    "\t@staticmethod\n",
    "\tdef assert_equals(a, b, *args, **kwargs):\n",
    "\t\tassert a == b\n",
    "\t\tprint('Passed')"
   ]
  },
  {
   "cell_type": "markdown",
   "metadata": {},
   "source": [
    "Problem https://edabit.com/challenge/FQyaaJx7orS7tiwz8 (1 point)"
   ]
  },
  {
   "cell_type": "code",
   "execution_count": 5,
   "metadata": {},
   "outputs": [],
   "source": [
    "def convert(a):\n",
    "\ta *= 60\n",
    "\treturn a"
   ]
  },
  {
   "cell_type": "code",
   "execution_count": 6,
   "metadata": {},
   "outputs": [
    {
     "name": "stdout",
     "output_type": "stream",
     "text": [
      "Passed\n",
      "Passed\n",
      "Passed\n"
     ]
    }
   ],
   "source": [
    "Test.assert_equals(convert(5), 300)\n",
    "Test.assert_equals(convert(3), 180)\n",
    "Test.assert_equals(convert(2), 120)"
   ]
  },
  {
   "cell_type": "code",
   "execution_count": 7,
   "metadata": {},
   "outputs": [],
   "source": [
    "class Test:\n",
    "\t@staticmethod\n",
    "\tdef assert_equals(a, b, *args, **kwargs):\n",
    "\t\tassert a == b\n",
    "\t\tprint('Passed')"
   ]
  },
  {
   "cell_type": "markdown",
   "metadata": {},
   "source": [
    "Problem https://edabit.com/challenge/aWLTzrRsrw7RakYrN (1 point)"
   ]
  },
  {
   "cell_type": "code",
   "execution_count": 8,
   "metadata": {},
   "outputs": [],
   "source": [
    "def tri_area(a, h):\n",
    "\treturn a*h/2"
   ]
  },
  {
   "cell_type": "code",
   "execution_count": 9,
   "metadata": {},
   "outputs": [
    {
     "name": "stdout",
     "output_type": "stream",
     "text": [
      "Passed\n",
      "Passed\n",
      "Passed\n"
     ]
    }
   ],
   "source": [
    "Test.assert_equals(tri_area(3, 2), 3)\n",
    "Test.assert_equals(tri_area(7, 4), 14)\n",
    "Test.assert_equals(tri_area(10, 10), 50)"
   ]
  },
  {
   "cell_type": "code",
   "execution_count": 10,
   "metadata": {},
   "outputs": [],
   "source": [
    "class Test:\n",
    "\t@staticmethod\n",
    "\tdef assert_equals(a, b, *args, **kwargs):\n",
    "\t\tassert a == b\n",
    "\t\tprint('Passed')"
   ]
  },
  {
   "cell_type": "markdown",
   "metadata": {},
   "source": [
    "Problem https://edabit.com/challenge/nyeNvKWdDFKRAk4Da (1 point)"
   ]
  },
  {
   "cell_type": "code",
   "execution_count": 11,
   "metadata": {},
   "outputs": [],
   "source": [
    "def how_many_seconds(a):\n",
    "\ta *= 3600\n",
    "\treturn a"
   ]
  },
  {
   "cell_type": "code",
   "execution_count": 12,
   "metadata": {},
   "outputs": [
    {
     "name": "stdout",
     "output_type": "stream",
     "text": [
      "Passed\n",
      "Passed\n",
      "Passed\n"
     ]
    }
   ],
   "source": [
    "Test.assert_equals(how_many_seconds(2), 7200)\n",
    "Test.assert_equals(how_many_seconds(10), 36000)\n",
    "Test.assert_equals(how_many_seconds(24), 86400)"
   ]
  },
  {
   "cell_type": "code",
   "execution_count": 13,
   "metadata": {},
   "outputs": [],
   "source": [
    "class Test:\n",
    "\t@staticmethod\n",
    "\tdef assert_equals(a, b, *args, **kwargs):\n",
    "\t\tassert a == b\n",
    "\t\tprint('Passed')"
   ]
  },
  {
   "cell_type": "markdown",
   "metadata": {},
   "source": [
    "https://edabit.com/challenge/Zerwo2AENbvRZTe83 (1 point)"
   ]
  },
  {
   "cell_type": "code",
   "execution_count": 14,
   "metadata": {},
   "outputs": [],
   "source": [
    "def next_edge(a, b):\n",
    "\treturn a + b - 1"
   ]
  },
  {
   "cell_type": "code",
   "execution_count": 15,
   "metadata": {},
   "outputs": [
    {
     "name": "stdout",
     "output_type": "stream",
     "text": [
      "Passed\n",
      "Passed\n",
      "Passed\n"
     ]
    }
   ],
   "source": [
    "Test.assert_equals(next_edge(8, 10), 17)\n",
    "Test.assert_equals(next_edge(5, 7), 11)\n",
    "Test.assert_equals(next_edge(9, 2), 10)"
   ]
  },
  {
   "cell_type": "code",
   "execution_count": 16,
   "metadata": {},
   "outputs": [],
   "source": [
    "class Test:\n",
    "\t@staticmethod\n",
    "\tdef assert_equals(a, b, *args, **kwargs):\n",
    "\t\tassert a == b\n",
    "\t\tprint('Passed')"
   ]
  },
  {
   "cell_type": "markdown",
   "metadata": {},
   "source": [
    "Problem https://edabit.com/challenge/KWoj7kWiHRqJtG6S2 (1 point)"
   ]
  },
  {
   "cell_type": "code",
   "execution_count": 17,
   "metadata": {},
   "outputs": [],
   "source": [
    "def remainder(a, b):\n",
    "\treturn a % b"
   ]
  },
  {
   "cell_type": "code",
   "execution_count": 18,
   "metadata": {},
   "outputs": [
    {
     "name": "stdout",
     "output_type": "stream",
     "text": [
      "Passed\n",
      "Passed\n",
      "Passed\n",
      "Passed\n"
     ]
    }
   ],
   "source": [
    "Test.assert_equals(remainder(1, 3), 1)\n",
    "Test.assert_equals(remainder(3, 4), 3)\n",
    "Test.assert_equals(remainder(5, 5), 0)\n",
    "Test.assert_equals(remainder(7, 2), 1)"
   ]
  },
  {
   "cell_type": "code",
   "execution_count": 19,
   "metadata": {},
   "outputs": [],
   "source": [
    "class Test:\n",
    "\t@staticmethod\n",
    "\tdef assert_equals(a, b, *args, **kwargs):\n",
    "\t\tassert a == b\n",
    "\t\tprint('Passed')"
   ]
  },
  {
   "cell_type": "markdown",
   "metadata": {},
   "source": [
    "Problem https://edabit.com/challenge/Yx2a9B57vXRuPevGh (1 point)"
   ]
  },
  {
   "cell_type": "code",
   "execution_count": 20,
   "metadata": {},
   "outputs": [],
   "source": [
    "def find_perimeter(a, b):\n",
    "\treturn 2 * (a + b)"
   ]
  },
  {
   "cell_type": "code",
   "execution_count": 21,
   "metadata": {},
   "outputs": [
    {
     "name": "stdout",
     "output_type": "stream",
     "text": [
      "Passed\n",
      "Passed\n",
      "Passed\n"
     ]
    }
   ],
   "source": [
    "Test.assert_equals(find_perimeter(6, 7), 26)\n",
    "Test.assert_equals(find_perimeter(20, 10), 60)\n",
    "Test.assert_equals(find_perimeter(2, 9), 22)"
   ]
  },
  {
   "cell_type": "code",
   "execution_count": 22,
   "metadata": {},
   "outputs": [],
   "source": [
    "class Test:\n",
    "\t@staticmethod\n",
    "\tdef assert_equals(a, b, *args, **kwargs):\n",
    "\t\tassert a == b\n",
    "\t\tprint('Passed')"
   ]
  },
  {
   "cell_type": "markdown",
   "metadata": {},
   "source": [
    "Problem https://edabit.com/challenge/QzXtDnSZL6y4ZcEvT (1 point)"
   ]
  },
  {
   "cell_type": "code",
   "execution_count": 23,
   "metadata": {},
   "outputs": [],
   "source": [
    "def animals(a, b, c):\n",
    "\treturn 2*a + 4*b + 4*c"
   ]
  },
  {
   "cell_type": "code",
   "execution_count": 24,
   "metadata": {},
   "outputs": [
    {
     "name": "stdout",
     "output_type": "stream",
     "text": [
      "Passed\n",
      "Passed\n",
      "Passed\n"
     ]
    }
   ],
   "source": [
    "Test.assert_equals(animals(2, 3, 5), 36)\n",
    "Test.assert_equals(animals(1, 2, 3), 22)\n",
    "Test.assert_equals(animals(5, 2, 8), 50)"
   ]
  },
  {
   "cell_type": "code",
   "execution_count": 25,
   "metadata": {},
   "outputs": [],
   "source": [
    "class Test:\n",
    "\t@staticmethod\n",
    "\tdef assert_equals(a, b, *args, **kwargs):\n",
    "\t\tassert a == b\n",
    "\t\tprint('Passed')"
   ]
  },
  {
   "cell_type": "markdown",
   "metadata": {},
   "source": [
    "Problem https://edabit.com/challenge/xWSjvoH7mEkSnqS7H (1 point)"
   ]
  },
  {
   "cell_type": "code",
   "execution_count": 26,
   "metadata": {},
   "outputs": [],
   "source": [
    "def calculate_exponent(a, b):\n",
    "\treturn a ** b"
   ]
  },
  {
   "cell_type": "code",
   "execution_count": 27,
   "metadata": {},
   "outputs": [
    {
     "name": "stdout",
     "output_type": "stream",
     "text": [
      "Passed\n",
      "Passed\n",
      "Passed\n"
     ]
    }
   ],
   "source": [
    "Test.assert_equals(calculate_exponent(5, 5), 3125)\n",
    "Test.assert_equals(calculate_exponent(10, 10), 10000000000)\n",
    "Test.assert_equals(calculate_exponent(3, 3), 27)"
   ]
  },
  {
   "cell_type": "code",
   "execution_count": 28,
   "metadata": {},
   "outputs": [],
   "source": [
    "class Test:\n",
    "\t@staticmethod\n",
    "\tdef assert_equals(a, b, *args, **kwargs):\n",
    "\t\tassert a == b\n",
    "\t\tprint('Passed')"
   ]
  },
  {
   "cell_type": "markdown",
   "metadata": {},
   "source": [
    "Problem https://edabit.com/challenge/gwqqc5p3oiFXRJAQm (1 point)"
   ]
  },
  {
   "cell_type": "code",
   "execution_count": 29,
   "metadata": {},
   "outputs": [],
   "source": [
    "def football_points(a, b, c):\n",
    "\treturn 3*a + 1*b + 0*c"
   ]
  },
  {
   "cell_type": "code",
   "execution_count": 30,
   "metadata": {},
   "outputs": [
    {
     "name": "stdout",
     "output_type": "stream",
     "text": [
      "Passed\n",
      "Passed\n",
      "Passed\n"
     ]
    }
   ],
   "source": [
    "Test.assert_equals(football_points(3, 4, 2), 13)\n",
    "Test.assert_equals(football_points(5, 0, 2), 15)\n",
    "Test.assert_equals(football_points(0, 0, 1), 0)"
   ]
  },
  {
   "cell_type": "code",
   "execution_count": 31,
   "metadata": {},
   "outputs": [],
   "source": [
    "class Test:\n",
    "\t@staticmethod\n",
    "\tdef assert_equals(a, b, *args, **kwargs):\n",
    "\t\tassert a == b\n",
    "\t\tprint('Passed')"
   ]
  },
  {
   "cell_type": "markdown",
   "metadata": {},
   "source": [
    "Problem https://edabit.com/challenge/HQXRKxQXECFTCFTtn (1 point)"
   ]
  },
  {
   "cell_type": "code",
   "execution_count": 32,
   "metadata": {},
   "outputs": [],
   "source": [
    "def pos_com(a):\n",
    "\treturn 2 ** a"
   ]
  },
  {
   "cell_type": "code",
   "execution_count": 33,
   "metadata": {},
   "outputs": [
    {
     "name": "stdout",
     "output_type": "stream",
     "text": [
      "Passed\n",
      "Passed\n",
      "Passed\n"
     ]
    }
   ],
   "source": [
    "Test.assert_equals(pos_com(1), 2)\n",
    "Test.assert_equals(pos_com(3), 8)\n",
    "Test.assert_equals(pos_com(10), 1024)"
   ]
  },
  {
   "cell_type": "code",
   "execution_count": 34,
   "metadata": {},
   "outputs": [],
   "source": [
    "class Test:\n",
    "\t@staticmethod\n",
    "\tdef assert_equals(a, b, *args, **kwargs):\n",
    "\t\tassert a == b\n",
    "\t\tprint('Passed')"
   ]
  },
  {
   "cell_type": "markdown",
   "metadata": {},
   "source": [
    "Problem https://edabit.com/challenge/MaekZ28kEvH9ZxPga (1 point)"
   ]
  },
  {
   "cell_type": "code",
   "execution_count": 35,
   "metadata": {},
   "outputs": [],
   "source": [
    "def cube_squareroot(a):\n",
    "\treturn (a ** 3) ** 0.5"
   ]
  },
  {
   "cell_type": "code",
   "execution_count": 36,
   "metadata": {},
   "outputs": [
    {
     "name": "stdout",
     "output_type": "stream",
     "text": [
      "Passed\n",
      "Passed\n",
      "Passed\n"
     ]
    }
   ],
   "source": [
    "Test.assert_equals(cube_squareroot(81), 729)\n",
    "Test.assert_equals(cube_squareroot(1646089), 2111932187)\n",
    "Test.assert_equals(cube_squareroot(695556), 580093704)"
   ]
  },
  {
   "cell_type": "code",
   "execution_count": 37,
   "metadata": {},
   "outputs": [],
   "source": [
    "class Test:\n",
    "\t@staticmethod\n",
    "\tdef assert_equals(a, b, *args, **kwargs):\n",
    "\t\tassert a == b\n",
    "\t\tprint('Passed')"
   ]
  },
  {
   "cell_type": "markdown",
   "metadata": {},
   "source": [
    "Problem https://edabit.com/challenge/u5WsfTX8rXb2phrNp (1 point)"
   ]
  },
  {
   "cell_type": "code",
   "execution_count": 38,
   "metadata": {},
   "outputs": [],
   "source": [
    "def calc_kinetic_energy(m, v):\n",
    "\treturn round(0.5 * m * (v ** 2))"
   ]
  },
  {
   "cell_type": "code",
   "execution_count": 39,
   "metadata": {},
   "outputs": [
    {
     "name": "stdout",
     "output_type": "stream",
     "text": [
      "Passed\n",
      "Passed\n",
      "Passed\n"
     ]
    }
   ],
   "source": [
    "Test.assert_equals(calc_kinetic_energy(60, 3), 270)\n",
    "Test.assert_equals(calc_kinetic_energy(45, 10), 2250)\n",
    "Test.assert_equals(calc_kinetic_energy(63.5, 7.35), 1715)"
   ]
  },
  {
   "cell_type": "code",
   "execution_count": 40,
   "metadata": {},
   "outputs": [],
   "source": [
    "class Test:\n",
    "\t@staticmethod\n",
    "\tdef assert_equals(a, b, *args, **kwargs):\n",
    "\t\tassert a == b\n",
    "\t\tprint('Passed')"
   ]
  },
  {
   "cell_type": "markdown",
   "metadata": {},
   "source": [
    "Problem https://edabit.com/challenge/dcdy9QMBbryyWENcm (1 point)"
   ]
  },
  {
   "cell_type": "code",
   "execution_count": 41,
   "metadata": {},
   "outputs": [],
   "source": [
    "def total_cups(n):\n",
    "\treturn n//6 + n"
   ]
  },
  {
   "cell_type": "code",
   "execution_count": 42,
   "metadata": {},
   "outputs": [
    {
     "name": "stdout",
     "output_type": "stream",
     "text": [
      "Passed\n",
      "Passed\n",
      "Passed\n"
     ]
    }
   ],
   "source": [
    "Test.assert_equals(total_cups(6), 7)\n",
    "Test.assert_equals(total_cups(12), 14)\n",
    "Test.assert_equals(total_cups(213), 248)"
   ]
  },
  {
   "cell_type": "code",
   "execution_count": 43,
   "metadata": {},
   "outputs": [],
   "source": [
    "class Test:\n",
    "\t@staticmethod\n",
    "\tdef assert_equals(a, b, *args, **kwargs):\n",
    "\t\tassert a == b\n",
    "\t\tprint('Passed')"
   ]
  },
  {
   "cell_type": "markdown",
   "metadata": {},
   "source": [
    "Problem https://edabit.com/challenge/XXJbGFEkrMWCp8yFn (1 point)"
   ]
  },
  {
   "cell_type": "code",
   "execution_count": 44,
   "metadata": {},
   "outputs": [],
   "source": [
    "def give_me_something(a):\n",
    "\treturn \"something\" + \" \" + a"
   ]
  },
  {
   "cell_type": "code",
   "execution_count": 45,
   "metadata": {},
   "outputs": [
    {
     "name": "stdout",
     "output_type": "stream",
     "text": [
      "Passed\n",
      "Passed\n",
      "Passed\n"
     ]
    }
   ],
   "source": [
    "Test.assert_equals(give_me_something(\"is better than nothing\"), \"something is better than nothing\")\n",
    "Test.assert_equals(give_me_something(\"Bob Jane\"), \"something Bob Jane\")\n",
    "Test.assert_equals(give_me_something(\"something\"), \"something something\")"
   ]
  },
  {
   "cell_type": "code",
   "execution_count": null,
   "metadata": {},
   "outputs": [],
   "source": []
  }
 ],
 "metadata": {
  "kernelspec": {
   "display_name": "Python 3",
   "language": "python",
   "name": "python3"
  },
  "language_info": {
   "codemirror_mode": {
    "name": "ipython",
    "version": 3
   },
   "file_extension": ".py",
   "mimetype": "text/x-python",
   "name": "python",
   "nbconvert_exporter": "python",
   "pygments_lexer": "ipython3",
   "version": "3.8.3"
  }
 },
 "nbformat": 4,
 "nbformat_minor": 4
}
