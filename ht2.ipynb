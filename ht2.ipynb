{
 "cells": [
  {
   "cell_type": "markdown",
   "metadata": {},
   "source": [
    "TASK 1:"
   ]
  },
  {
   "cell_type": "code",
   "execution_count": 3,
   "metadata": {},
   "outputs": [
    {
     "name": "stdout",
     "output_type": "stream",
     "text": [
      "[[-2.  1. -4.]\n",
      " [ 2.  2. -1.]\n",
      " [-1. -3. -2.]\n",
      " [-2. -3. -4.]\n",
      " [ 4.  0.  4.]\n",
      " [ 2. -1. -1.]\n",
      " [-1. -4.  3.]\n",
      " [-3.  1.  1.]\n",
      " [-2.  1. -4.]\n",
      " [-5.  3.  2.]]\n"
     ]
    }
   ],
   "source": [
    "import numpy as np\n",
    "a = np.floor(10 * np.random.rand(10,3) - 5)\n",
    "print (a)"
   ]
  },
  {
   "cell_type": "code",
   "execution_count": 10,
   "metadata": {},
   "outputs": [
    {
     "name": "stdout",
     "output_type": "stream",
     "text": [
      "nearest to 0.5:\n",
      "[ 1.  2. -1. -2.  0.  2. -1.  1.  1.  2.]\n"
     ]
    }
   ],
   "source": [
    "print (\"nearest to 0.5:\")\n",
    "print(np.array([a[lines][np.argsort(np.abs(a[lines] - 0.5))[0]] for lines in range(10)]))"
   ]
  },
  {
   "cell_type": "markdown",
   "metadata": {},
   "source": [
    "TASK 2:"
   ]
  },
  {
   "cell_type": "code",
   "execution_count": 5,
   "metadata": {},
   "outputs": [
    {
     "name": "stdout",
     "output_type": "stream",
     "text": [
      "[[ 2.  8. 10.  5.  6.  1.]\n",
      " [ 5.  3. 10.  6.  3. 10.]\n",
      " [ 7.  2.  3.  8.  1.  1.]\n",
      " [ 5.  3.  7.  8.  1. 10.]\n",
      " [ 4. 10.  2.  4.  9.  5.]\n",
      " [ 5.  5.  9.  6.  4.  2.]]\n"
     ]
    }
   ],
   "source": [
    "b = np.floor(10 * np.random.rand(6,6) + 1)\n",
    "print (b)"
   ]
  },
  {
   "cell_type": "code",
   "execution_count": 11,
   "metadata": {},
   "outputs": [
    {
     "name": "stdout",
     "output_type": "stream",
     "text": [
      "sum str / min el st:\n",
      "[16.  18.5 11.   8.5 34.  31. ]\n"
     ]
    }
   ],
   "source": [
    "print(\"sum str / min el st:\")\n",
    "print(np.array([np.sum(b[lines]) / np.min(b.transpose()[lines]) for lines in range(6)]))"
   ]
  },
  {
   "cell_type": "markdown",
   "metadata": {},
   "source": [
    "TASK 3:"
   ]
  },
  {
   "cell_type": "code",
   "execution_count": 7,
   "metadata": {},
   "outputs": [
    {
     "name": "stdout",
     "output_type": "stream",
     "text": [
      "[6 2 0 3 0 0 5 7 0]\n"
     ]
    }
   ],
   "source": [
    "x = np.array([6, 2, 0, 3, 0, 0, 5, 7, 0])\n",
    "print(x)"
   ]
  },
  {
   "cell_type": "code",
   "execution_count": 14,
   "metadata": {},
   "outputs": [
    {
     "name": "stdout",
     "output_type": "stream",
     "text": [
      "max after 0:\n",
      "5\n"
     ]
    }
   ],
   "source": [
    "print(\"max after 0:\")\n",
    "print(np.max(np.array([(int)(x[i] == 0) * x[i+1] for i in range(len(x) - 1)])))"
   ]
  },
  {
   "cell_type": "markdown",
   "metadata": {},
   "source": [
    "TASK 4:"
   ]
  },
  {
   "cell_type": "code",
   "execution_count": 16,
   "metadata": {},
   "outputs": [
    {
     "name": "stdout",
     "output_type": "stream",
     "text": [
      "[1. 1. 1. 1. 1. 1. 1. 1. 1. 1.]\n",
      "[0 1 2 3 5 5 5 8]\n"
     ]
    }
   ],
   "source": [
    "y = np.ones(10)\n",
    "i = np.array([0, 1, 2, 3, 5, 5, 5, 8])\n",
    "print(y)\n",
    "print(i)\n"
   ]
  },
  {
   "cell_type": "code",
   "execution_count": 18,
   "metadata": {},
   "outputs": [
    {
     "name": "stdout",
     "output_type": "stream",
     "text": [
      "[2. 2. 2. 2. 1. 4. 1. 1. 2. 1.]\n"
     ]
    }
   ],
   "source": [
    "print(np.array([y[j] + len(i[i == j]) for j in range(10)]))"
   ]
  },
  {
   "cell_type": "markdown",
   "metadata": {},
   "source": [
    "TASK 5:"
   ]
  },
  {
   "cell_type": "code",
   "execution_count": 1,
   "metadata": {},
   "outputs": [],
   "source": [
    "import numpy as np\n",
    "def kmeans(obs, k_or_guess, iter = 1000, thresh = 1e-05):\n",
    "    M = obs.shape[0]\n",
    "    N = obs.shape[1] \n",
    "    codebook = obs[:k_or_guess,:] # new centroids of clusters\n",
    "    centroids = np.zeros((k_or_guess,N)) # previous centroids\n",
    "    distortion = M * N * k_or_guess * np.max(obs) ** 2 # new distortion\n",
    "    dist = 0 # previous distortion\n",
    "    obs = np.expand_dims(obs, axis = 1) # adding оf a new axis\n",
    "    i = 0\n",
    "    while np.abs(distortion - dist) > thresh and i < iter:\n",
    "        centroids = codebook\n",
    "        dist = distortion\n",
    "        clust = np.argmin(((obs - codebook) ** 2).sum(axis = 2), axis = 1) # clusters's numbers for each element\n",
    "        m = np.zeros(M * k_or_guess * N).reshape(M, k_or_guess, N)\n",
    "        m[np.arange(M), clust] = (obs - codebook)[np.arange(M),clust] / np.bincount(clust)[clust].reshape(M, 1)\n",
    "        codebook = centroids + m.sum(axis = 0)\n",
    "        clust = np.argmin(((obs - codebook) ** 2).sum(axis = 2),axis = 1) \n",
    "        m = np.zeros(M * k_or_guess * N).reshape(M, k_or_guess, N)\n",
    "        m[np.arange(M), clust] = (obs - codebook)[np.arange(M), clust]\n",
    "        distortion = np.sqrt((m ** 2).sum(axis = 2)).sum(axis = 1).mean()\n",
    "        i = i + 1\n",
    "    return codebook, distortion"
   ]
  },
  {
   "cell_type": "markdown",
   "metadata": {},
   "source": [
    "TASK 6:"
   ]
  },
  {
   "cell_type": "code",
   "execution_count": 2,
   "metadata": {},
   "outputs": [],
   "source": [
    "import numpy as np\n",
    "import matplotlib.pyplot as plt\n",
    "from scipy.cluster.vq import kmeans\n",
    "# data reading\n",
    "url = 'https://raw.githubusercontent.com/sharmaroshan/Clustering-of-Mall-Customers/master/Mall_Customers.csv'\n",
    "data = np.loadtxt(url, delimiter=',', dtype=object, skiprows=1)\n",
    "data[:, 1] = data[:, 1] == 'Male'\n",
    "data = data.astype(float) "
   ]
  },
  {
   "cell_type": "code",
   "execution_count": 3,
   "metadata": {},
   "outputs": [],
   "source": [
    "def num_clust(data, codebook): # points and their cluster's numbers\n",
    "    k = len(codebook) # number of clusters\n",
    "    i = np.arange(0, k) # indexes\n",
    "    p = np.ones((k, len(data)))\n",
    "    p[i] = np.arange(0, len(data))\n",
    "    p = p.astype(int) # value type is int\n",
    "    d1 = (data[p, 0] - codebook[i, 0].reshape(k, 1))**2\n",
    "    d2 = (data[p, 1] - codebook[i, 1].reshape(k, 1))**2\n",
    "    clust_num = ((d1 + d2)**(1/2)).argmin(axis = 0).astype(int)\n",
    "    clusters = []\n",
    "    for j in range(k):\n",
    "        clusters.append(data[clust_num == j])\n",
    "    return clusters"
   ]
  },
  {
   "cell_type": "markdown",
   "metadata": {},
   "source": [
    "TEST 1: DEPENDENCE OF ANNUAL INCOME ON AGE"
   ]
  },
  {
   "cell_type": "code",
   "execution_count": 4,
   "metadata": {},
   "outputs": [
    {
     "data": {
      "image/png": "[encoded data removed]",
      "text/plain": [
       "<Figure size 432x288 with 1 Axes>"
      ]
     },
     "metadata": {
      "needs_background": "light"
     },
     "output_type": "display_data"
    }
   ],
   "source": [
    "dist = []\n",
    "K = range(1,18)\n",
    "for k in K:\n",
    "    dist.append(kmeans(data[:,[2,3]], k)[1])\n",
    "\n",
    "plt.plot(K, dist, 'o-r', label='Elbow method')\n",
    "plt.legend()\n",
    "plt.xlabel('K')\n",
    "plt.ylabel('Distortion')\n",
    "plt.title('Elbow method')\n",
    "plt.show()"
   ]
  },
  {
   "cell_type": "markdown",
   "metadata": {},
   "source": [
    "OPTIMAL K = 3"
   ]
  },
  {
   "cell_type": "code",
   "execution_count": 5,
   "metadata": {},
   "outputs": [
    {
     "data": {
      "image/png": "[encoded data removed]",
      "text/plain": [
       "<Figure size 432x288 with 1 Axes>"
      ]
     },
     "metadata": {
      "needs_background": "light"
     },
     "output_type": "display_data"
    }
   ],
   "source": [
    "codebook, distortion = kmeans(data[:,[2,3]], 3)\n",
    "clusters = num_clust(data[:,[2,3]], codebook)\n",
    "plt.scatter(clusters[0][:,0], clusters[0][:,1], c='r', label='kl 1')\n",
    "plt.scatter(clusters[1][:,0], clusters[1][:,1], c='g', label='kl 2')\n",
    "plt.scatter(clusters[2][:,0], clusters[2][:,1], c='b', label='kl 3')\n",
    "plt.legend()\n",
    "plt.xlabel('Age')\n",
    "plt.ylabel('Annual Income')\n",
    "plt.show()"
   ]
  },
  {
   "cell_type": "markdown",
   "metadata": {},
   "source": [
    "TEST 2: DEPENDENCE OF SPENDING SCORE ON AGE"
   ]
  },
  {
   "cell_type": "code",
   "execution_count": 6,
   "metadata": {},
   "outputs": [
    {
     "data": {
      "image/png": "[encoded data removed]",
      "text/plain": [
       "<Figure size 432x288 with 1 Axes>"
      ]
     },
     "metadata": {
      "needs_background": "light"
     },
     "output_type": "display_data"
    }
   ],
   "source": [
    "dist = []\n",
    "K = range(1,18)\n",
    "for k in K:\n",
    "    dist.append(kmeans(data[:,[2,4]], k)[1])\n",
    "    \n",
    "plt.plot(K, dist, 'o-r', label='Elbow method')\n",
    "plt.legend()\n",
    "plt.xlabel('K')\n",
    "plt.ylabel('Distortion')\n",
    "plt.show()"
   ]
  },
  {
   "cell_type": "markdown",
   "metadata": {},
   "source": [
    "OPTIMAL K = 4"
   ]
  },
  {
   "cell_type": "code",
   "execution_count": 7,
   "metadata": {},
   "outputs": [
    {
     "data": {
      "image/png": "[encoded data removed]",
      "text/plain": [
       "<Figure size 432x288 with 1 Axes>"
      ]
     },
     "metadata": {
      "needs_background": "light"
     },
     "output_type": "display_data"
    }
   ],
   "source": [
    "codebook, distortion = kmeans(data[:,[2,4]], 4)\n",
    "clusters = num_clust(data[:,[2,4]], codebook)\n",
    "plt.scatter(clusters[0][:,0], clusters[0][:,1], c='r', label='kl 1')\n",
    "plt.scatter(clusters[1][:,0], clusters[1][:,1], c='g', label='kl 2')\n",
    "plt.scatter(clusters[2][:,0], clusters[2][:,1], c='b', label='kl 3')\n",
    "plt.scatter(clusters[3][:,0], clusters[3][:,1], c='y', label='kl 4')\n",
    "plt.legend()\n",
    "plt.xlabel('Age')\n",
    "plt.ylabel('Spending Score')\n",
    "plt.show()"
   ]
  },
  {
   "cell_type": "markdown",
   "metadata": {},
   "source": [
    "TEST 3: DEPENDENCE OF SPENDING SCORE ON ANNUAL INCOME"
   ]
  },
  {
   "cell_type": "code",
   "execution_count": 9,
   "metadata": {},
   "outputs": [
    {
     "data": {
      "image/png": "[encoded data removed]",
      "text/plain": [
       "<Figure size 432x288 with 1 Axes>"
      ]
     },
     "metadata": {
      "needs_background": "light"
     },
     "output_type": "display_data"
    }
   ],
   "source": [
    "dist = []\n",
    "K = range(1,18)\n",
    "for k in K:\n",
    "    dist.append(kmeans(data[:,[3,4]], k)[1])\n",
    "    \n",
    "plt.plot(K, dist, 'o-r', label='Elbow method')\n",
    "plt.legend()\n",
    "plt.xlabel('K')\n",
    "plt.ylabel('Distortion')\n",
    "plt.show()"
   ]
  },
  {
   "cell_type": "markdown",
   "metadata": {},
   "source": [
    "OPTIMAL K = 5"
   ]
  },
  {
   "cell_type": "code",
   "execution_count": 10,
   "metadata": {},
   "outputs": [
    {
     "data": {
      "image/png": "[encoded data removed]",
      "text/plain": [
       "<Figure size 432x288 with 1 Axes>"
      ]
     },
     "metadata": {
      "needs_background": "light"
     },
     "output_type": "display_data"
    }
   ],
   "source": [
    "codebook, distortion = kmeans(data[:,[3,4]], 5)\n",
    "clusters = num_clust(data[:,[3,4]], codebook)\n",
    "plt.scatter(clusters[0][:,0], clusters[0][:,1], c='r', label='kl 1')\n",
    "plt.scatter(clusters[1][:,0], clusters[1][:,1], c='g', label='kl 2')\n",
    "plt.scatter(clusters[2][:,0], clusters[2][:,1], c='b', label='kl 3')\n",
    "plt.scatter(clusters[3][:,0], clusters[3][:,1], c='y', label='kl 4')\n",
    "plt.scatter(clusters[4][:,0], clusters[4][:,1], c='c', label='kl 5')\n",
    "plt.legend()\n",
    "plt.xlabel('Annual Income')\n",
    "plt.ylabel('Spending Score')\n",
    "plt.show()"
   ]
  },
  {
   "cell_type": "code",
   "execution_count": null,
   "metadata": {},
   "outputs": [],
   "source": []
  }
 ],
 "metadata": {
  "kernelspec": {
   "display_name": "Python 3",
   "language": "python",
   "name": "python3"
  },
  "language_info": {
   "codemirror_mode": {
    "name": "ipython",
    "version": 3
   },
   "file_extension": ".py",
   "mimetype": "text/x-python",
   "name": "python",
   "nbconvert_exporter": "python",
   "pygments_lexer": "ipython3",
   "version": "3.8.3"
  }
 },
 "nbformat": 4,
 "nbformat_minor": 4
}
