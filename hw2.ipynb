{
 "cells": [
  {
   "cell_type": "markdown",
   "metadata": {},
   "source": [
    "task 1:"
   ]
  },
  {
   "cell_type": "code",
   "execution_count": 3,
   "metadata": {},
   "outputs": [
    {
     "name": "stdout",
     "output_type": "stream",
     "text": [
      "[[-2.  1. -4.]\n",
      " [ 2.  2. -1.]\n",
      " [-1. -3. -2.]\n",
      " [-2. -3. -4.]\n",
      " [ 4.  0.  4.]\n",
      " [ 2. -1. -1.]\n",
      " [-1. -4.  3.]\n",
      " [-3.  1.  1.]\n",
      " [-2.  1. -4.]\n",
      " [-5.  3.  2.]]\n"
     ]
    }
   ],
   "source": [
    "import numpy as np\n",
    "a = np.floor(10 * np.random.rand(10,3) - 5)\n",
    "print (a)"
   ]
  },
  {
   "cell_type": "code",
   "execution_count": 10,
   "metadata": {},
   "outputs": [
    {
     "name": "stdout",
     "output_type": "stream",
     "text": [
      "nearest to 0.5:\n",
      "[ 1.  2. -1. -2.  0.  2. -1.  1.  1.  2.]\n"
     ]
    }
   ],
   "source": [
    "print (\"nearest to 0.5:\")\n",
    "print(np.array([a[lines][np.argsort(np.abs(a[lines] - 0.5))[0]] for lines in range(10)]))"
   ]
  },
  {
   "cell_type": "markdown",
   "metadata": {},
   "source": [
    "task 2:"
   ]
  },
  {
   "cell_type": "code",
   "execution_count": 5,
   "metadata": {},
   "outputs": [
    {
     "name": "stdout",
     "output_type": "stream",
     "text": [
      "[[ 2.  8. 10.  5.  6.  1.]\n",
      " [ 5.  3. 10.  6.  3. 10.]\n",
      " [ 7.  2.  3.  8.  1.  1.]\n",
      " [ 5.  3.  7.  8.  1. 10.]\n",
      " [ 4. 10.  2.  4.  9.  5.]\n",
      " [ 5.  5.  9.  6.  4.  2.]]\n"
     ]
    }
   ],
   "source": [
    "b = np.floor(10 * np.random.rand(6,6) + 1)\n",
    "print (b)"
   ]
  },
  {
   "cell_type": "code",
   "execution_count": 11,
   "metadata": {},
   "outputs": [
    {
     "name": "stdout",
     "output_type": "stream",
     "text": [
      "sum str / min el st:\n",
      "[16.  18.5 11.   8.5 34.  31. ]\n"
     ]
    }
   ],
   "source": [
    "print(\"sum str / min el st:\")\n",
    "print(np.array([np.sum(b[lines]) / np.min(b.transpose()[lines]) for lines in range(6)]))"
   ]
  },
  {
   "cell_type": "markdown",
   "metadata": {},
   "source": [
    "task 3:"
   ]
  },
  {
   "cell_type": "code",
   "execution_count": 7,
   "metadata": {},
   "outputs": [
    {
     "name": "stdout",
     "output_type": "stream",
     "text": [
      "[6 2 0 3 0 0 5 7 0]\n"
     ]
    }
   ],
   "source": [
    "x = np.array([6, 2, 0, 3, 0, 0, 5, 7, 0])\n",
    "print(x)"
   ]
  },
  {
   "cell_type": "code",
   "execution_count": 14,
   "metadata": {},
   "outputs": [
    {
     "name": "stdout",
     "output_type": "stream",
     "text": [
      "max after 0:\n",
      "5\n"
     ]
    }
   ],
   "source": [
    "print(\"max after 0:\")\n",
    "print(np.max(np.array([(int)(x[i] == 0) * x[i+1] for i in range(len(x) - 1)])))"
   ]
  },
  {
   "cell_type": "markdown",
   "metadata": {},
   "source": [
    "task 4:"
   ]
  },
  {
   "cell_type": "code",
   "execution_count": 16,
   "metadata": {},
   "outputs": [
    {
     "name": "stdout",
     "output_type": "stream",
     "text": [
      "[1. 1. 1. 1. 1. 1. 1. 1. 1. 1.]\n",
      "[0 1 2 3 5 5 5 8]\n"
     ]
    }
   ],
   "source": [
    "y = np.ones(10)\n",
    "i = np.array([0, 1, 2, 3, 5, 5, 5, 8])\n",
    "print(y)\n",
    "print(i)\n"
   ]
  },
  {
   "cell_type": "code",
   "execution_count": 18,
   "metadata": {},
   "outputs": [
    {
     "name": "stdout",
     "output_type": "stream",
     "text": [
      "[2. 2. 2. 2. 1. 4. 1. 1. 2. 1.]\n"
     ]
    }
   ],
   "source": [
    "print(np.array([y[j] + len(i[i == j]) for j in range(10)]))"
   ]
  },
  {
   "cell_type": "code",
   "execution_count": null,
   "metadata": {},
   "outputs": [],
   "source": []
  }
 ],
 "metadata": {
  "kernelspec": {
   "display_name": "Python 3",
   "language": "python",
   "name": "python3"
  },
  "language_info": {
   "codemirror_mode": {
    "name": "ipython",
    "version": 3
   },
   "file_extension": ".py",
   "mimetype": "text/x-python",
   "name": "python",
   "nbconvert_exporter": "python",
   "pygments_lexer": "ipython3",
   "version": "3.8.3"
  }
 },
 "nbformat": 4,
 "nbformat_minor": 4
}
